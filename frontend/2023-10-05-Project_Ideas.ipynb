{
 "cells": [
  {
   "cell_type": "markdown",
   "metadata": {},
   "source": [
    "Premise of our Project:\n",
    "\n",
    "- Website that has a connection to different games (Game Hub, like math.com or something)\n",
    "  - Include games like:\n",
    "    - Pacman \n",
    "    - Guessing games\n",
    "    - Clicking game (cookie clicker) + (maybe) gacha\n",
    "    - Snake\n",
    "    - Aim Trainer (That we will make)\n",
    "    - Binary game\n",
    "    - Akinator (AI)???\n",
    "\n",
    "Incorperating Aspects of Unit 2:\n",
    "- Stores your highscores for games like: Pacman, Guessing Game, Clicking Game, Snake\n",
    "  - Stores other stats like how many times you've died, how many answers you've gotten wrong\n",
    "  - If we get the gacha game working, the game can store your gacha and what you have\n",
    "  - (Data Storage)\n",
    "- Data Collection and usage\n",
    "  - In each game that is possible to have a highscore, we will have a leaderboard of all the users that have played and scored points on the game. It will be organized from the highest scoring to the lowest scoring. The average score will be given as well. \n",
    "\n",
    "How to get it done:\n",
    "- Frontend: We plan to create every game from scratch in python, including the aim trainer and the (maybe) gacha. \n",
    "  - For the aim rainer, we imagined that it would be a simple aim trainer with easy, medium, and hard mode. The easy mode would have the dots that you click very clode together, the medium would speed up the pace that the dots dissappear and appear at, then finally, the hard mode would have the dots very far away from each other and they will dissappear very fast.\n",
    "  - For the guessing game, we decided that we did something unique. We would have an x on a number line and the user would try to guess where the x is placed. \n",
    "  - Pacman should be relativley the same, there are entities that chase you while you try to collect all the points\n",
    "  - Snake will also be relaivley the same. There is a snake and it will try to eat all the apples.\n",
    "  - For the clicker game, we want to either make it a gacha game or keep it like cookie clicker. For the gacha approach, we wanted to have it to each click would rack up points, and after a while the points can be used to roll a gacha. There would be 10 different collectable animals. If we decided not to impliment the gacha part, we would just make it so that you can click a button and earn points.\n",
    "  - Binary game would be a timed game where you are given a number and a row of binary where you can click to turn the row of zeros into either 1's or 0's, and based off of the number you are given you have to change the 0s and 1s to match the number. Also, you could be given a row of binary and asked what number it is.\n",
    "\n",
    "- Backend: We plan to have personal accounts for each person so that all their data is stored (their highscores, which games they've played, how long they've played, what gacha's they've obtained)\n",
    "  - Also, some games developed from backend would be maybe the Akinator game (if we can get AI to work) as well as an image adjuster program. \n",
    "\n"
   ]
  }
 ],
 "metadata": {
  "language_info": {
   "name": "python"
  },
  "orig_nbformat": 4
 },
 "nbformat": 4,
 "nbformat_minor": 2
}
