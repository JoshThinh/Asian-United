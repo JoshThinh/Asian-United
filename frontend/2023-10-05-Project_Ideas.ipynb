{
 "cells": [
  {
   "cell_type": "markdown",
   "metadata": {},
   "source": [
    "Premise of our Project:\n",
    "\n",
    "- Website that has a connection to different games (Game Hub, like math.com or something)\n",
    "  - Include games like:\n",
    "    - Pacman \n",
    "    - Guessing games\n",
    "    - Clicking game (cookie clicker) + (maybe) gacha\n",
    "    - Snake\n",
    "    - Aim Trainer (That we will make)\n",
    "OR\n",
    "- Simple 2D shooter game that has different characters with different abilities \n",
    "  - Will be set on a simple rectangular space\n",
    "  - Small boxes in between the two characters will prevent the bullet from passing through\n",
    "  - Aim of the game is to shoot the other person with a white pellet. \n",
    "\n",
    "Incorperating Aspects of Unit 2:\n",
    "- Stores your highscores for games like: Pacman, Guessing Game, Clicking Game, Snake\n",
    "  - Stores other stats like how many times you've died, how many answers you've gotten wrong\n",
    "  - If we get the gacha game working, the game can store your gacha and what you have\n",
    "  - (Data Storage)\n",
    "\n",
    "Our Plan:\n",
    "- Frontend: We plan to create every game from scratch in python, including the aim trainer and the (maybe) gacha. \n",
    "  - For the aim rainer, we imagined that it would be a simple aim trainer with easy, medium, and hard mode. The easy mode would have the dots that you click very clode together, the medium would speed up the pace that the dots dissappear and appear at, then finally, the hard mode would have the dots very far away from each other and they will dissappear very fast.\n",
    "  - For the guessing game, we decided that we did something unique. We would have an x on a number line and the user would try to guess where the x is placed. \n",
    "  - Pacman should be relativley the same, there are entities that chase you while you try to collect all the points\n",
    "  - Snake will also be relaivley the same. There is a snake and it will try to eat all the apples.\n",
    "- For the clicker game, we want to either make it a gacha game or keep it like cookie clicker. For the gacha approach, we wanted to have it to each click would rack up points, and after a while the points can be used to roll a gacha. There would be 10 different collectable animals. If we decided not to impliment the gacha part, we would just make it so that you can click a button and the \n",
    "\n"
   ]
  }
 ],
 "metadata": {
  "language_info": {
   "name": "python"
  },
  "orig_nbformat": 4
 },
 "nbformat": 4,
 "nbformat_minor": 2
}
